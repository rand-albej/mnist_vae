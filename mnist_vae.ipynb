{
  "cells": [
    {
      "cell_type": "markdown",
      "metadata": {
        "id": "view-in-github",
        "colab_type": "text"
      },
      "source": [
        "<a href=\"https://colab.research.google.com/github/rand-albej/mnist_vae/blob/main/mnist_vae.ipynb\" target=\"_parent\"><img src=\"https://colab.research.google.com/assets/colab-badge.svg\" alt=\"Open In Colab\"/></a>"
      ]
    },
    {
      "cell_type": "code",
      "execution_count": null,
      "metadata": {
        "id": "Vqg8SEXq55vV"
      },
      "outputs": [],
      "source": [
        "import torch\n",
        "import torch.nn as nn\n",
        "import torch.nn.functional as F\n",
        "import torch.optim as optim\n",
        "import numpy as np\n",
        "import matplotlib.pyplot as plt\n",
        "from torchvision import models,transforms\n",
        "from torchvision.utils import make_grid\n",
        "from torchvision.datasets import MNIST\n",
        "from torchsummary import summary"
      ]
    },
    {
      "cell_type": "code",
      "execution_count": null,
      "metadata": {
        "id": "BDiyOVBF6Ess",
        "outputId": "21924a54-ca7f-4aa2-bbff-177ade17ac39",
        "colab": {
          "base_uri": "https://localhost:8080/"
        }
      },
      "outputs": [
        {
          "output_type": "stream",
          "name": "stdout",
          "text": [
            "Downloading http://yann.lecun.com/exdb/mnist/train-images-idx3-ubyte.gz\n",
            "Downloading http://yann.lecun.com/exdb/mnist/train-images-idx3-ubyte.gz to data/MNIST/raw/train-images-idx3-ubyte.gz\n"
          ]
        },
        {
          "output_type": "stream",
          "name": "stderr",
          "text": [
            "100%|██████████| 9912422/9912422 [00:00<00:00, 61404520.37it/s]\n"
          ]
        },
        {
          "output_type": "stream",
          "name": "stdout",
          "text": [
            "Extracting data/MNIST/raw/train-images-idx3-ubyte.gz to data/MNIST/raw\n",
            "\n",
            "Downloading http://yann.lecun.com/exdb/mnist/train-labels-idx1-ubyte.gz\n",
            "Downloading http://yann.lecun.com/exdb/mnist/train-labels-idx1-ubyte.gz to data/MNIST/raw/train-labels-idx1-ubyte.gz\n"
          ]
        },
        {
          "output_type": "stream",
          "name": "stderr",
          "text": [
            "100%|██████████| 28881/28881 [00:00<00:00, 14332192.83it/s]\n"
          ]
        },
        {
          "output_type": "stream",
          "name": "stdout",
          "text": [
            "Extracting data/MNIST/raw/train-labels-idx1-ubyte.gz to data/MNIST/raw\n",
            "\n",
            "Downloading http://yann.lecun.com/exdb/mnist/t10k-images-idx3-ubyte.gz\n",
            "Downloading http://yann.lecun.com/exdb/mnist/t10k-images-idx3-ubyte.gz to data/MNIST/raw/t10k-images-idx3-ubyte.gz\n"
          ]
        },
        {
          "output_type": "stream",
          "name": "stderr",
          "text": [
            "100%|██████████| 1648877/1648877 [00:00<00:00, 23419327.67it/s]\n"
          ]
        },
        {
          "output_type": "stream",
          "name": "stdout",
          "text": [
            "Extracting data/MNIST/raw/t10k-images-idx3-ubyte.gz to data/MNIST/raw\n",
            "\n",
            "Downloading http://yann.lecun.com/exdb/mnist/t10k-labels-idx1-ubyte.gz\n",
            "Downloading http://yann.lecun.com/exdb/mnist/t10k-labels-idx1-ubyte.gz to data/MNIST/raw/t10k-labels-idx1-ubyte.gz\n"
          ]
        },
        {
          "output_type": "stream",
          "name": "stderr",
          "text": [
            "100%|██████████| 4542/4542 [00:00<00:00, 16408724.18it/s]"
          ]
        },
        {
          "output_type": "stream",
          "name": "stdout",
          "text": [
            "Extracting data/MNIST/raw/t10k-labels-idx1-ubyte.gz to data/MNIST/raw\n",
            "\n"
          ]
        },
        {
          "output_type": "stream",
          "name": "stderr",
          "text": [
            "\n"
          ]
        }
      ],
      "source": [
        "# MNIST\n",
        "trainset = MNIST(root='data/', train=True, download=True, transform=transforms.ToTensor())\n",
        "batch_sz = 64\n",
        "train_loader = torch.utils.data.DataLoader(dataset=trainset, batch_size=batch_sz, shuffle=True)"
      ]
    },
    {
      "cell_type": "code",
      "execution_count": null,
      "metadata": {
        "id": "ZJHbOSisWPV0"
      },
      "outputs": [],
      "source": [
        "class VarAutoEncoder(nn.Module):\n",
        "  def __init__(self, nz=32):\n",
        "    super().__init__()\n",
        "    self.nz = nz\n",
        "    self.econv1 = nn.Conv2d(1, 16, 3, 2, 1)\n",
        "    self.ebn1 = nn.BatchNorm2d(16)\n",
        "    self.econv2 = nn.Conv2d(16, 32, 3, 2, 1)\n",
        "    self.ebn2 = nn.BatchNorm2d(32)\n",
        "    self.econv3 = nn.Conv2d(32,64, 3, 2, 1)\n",
        "    self.ebn3 = nn.BatchNorm2d(64)\n",
        "    self.elinear1 = nn.Linear(64*4*4, 128)\n",
        "    self.ebn4 = nn.BatchNorm1d(128)\n",
        "\n",
        "    self.dlinear1 = nn.Linear(nz,128)\n",
        "    self.dbn1 = nn.BatchNorm1d(128)\n",
        "    self.dlinear2 = nn.Linear(128,64*4*4)\n",
        "    self.dbn2 = nn.BatchNorm2d(64)\n",
        "    self.dconv1 = nn.ConvTranspose2d(64, 32, 3, 2, 1)\n",
        "    self.dbn3 = nn.BatchNorm2d(32)\n",
        "    self.dconv2 = nn.ConvTranspose2d(32, 16, 3, 2, 1, output_padding =1)\n",
        "    self.dbn4 = nn.BatchNorm2d(16)\n",
        "    self.dconv3 = nn.ConvTranspose2d(16, 1, 3, 2, 1, output_padding =1)\n",
        "\n",
        "    self.ulinear = nn.Linear(128,nz)\n",
        "    self.slinear = nn.Linear(128,nz)\n",
        "\n",
        "  def encoder (self,x):\n",
        "    x = F.leaky_relu(self.econv1(x))\n",
        "    x = self.ebn1(x)\n",
        "    x = F.leaky_relu(self.econv2(x))\n",
        "    x = self.ebn2(x)\n",
        "    x = F.leaky_relu(self.econv3(x))\n",
        "    x = self.ebn3(x)\n",
        "    x = x.view(-1,64*4*4)\n",
        "    x = F.leaky_relu(self.elinear1(x))\n",
        "    x = self.ebn4(x)\n",
        "    return x\n",
        "\n",
        "  def decoder(self, x):\n",
        "    x = F.leaky_relu(self.dlinear1(x))\n",
        "    x = self.dbn1(x)\n",
        "    x = F.leaky_relu(self.dlinear2(x))\n",
        "    x = x.view(-1, 64,4,4)\n",
        "    x = self.dbn2(x)\n",
        "    x = F.leaky_relu(self.dconv1(x))\n",
        "    x = self.dbn3(x)\n",
        "    x = F.leaky_relu(self.dconv2(x))\n",
        "    x = self.dbn4(x)\n",
        "    x = torch.sigmoid(self.dconv3(x))\n",
        "    return x\n",
        "\n",
        "  def get_params(self,x):\n",
        "    u = self.ulinear(x)\n",
        "    logvar = self.slinear(x)\n",
        "    return u, logvar\n",
        "\n",
        "  def reparametarization(self, u, logvar):\n",
        "    std = torch.exp(logvar/2)\n",
        "    z = u + std*torch.randn_like(u)\n",
        "    return z\n",
        "\n",
        "  def forward(self,x):\n",
        "    ex = self.encoder(x)\n",
        "    u, logvar = self.get_params(ex)\n",
        "    z = self.reparametarization(u, logvar)\n",
        "    x = self.decoder(z)\n",
        "    return ex,z, x, u, logvar"
      ]
    },
    {
      "cell_type": "code",
      "source": [
        "device = \"cuda\" if torch.cuda.is_available() else \"cpu\"\n",
        "net = VarAutoEncoder(32).to(device)\n",
        "\n",
        "summary(net, (1, 28, 28))"
      ],
      "metadata": {
        "id": "A1akvGg6bHXE",
        "outputId": "94fbd2e7-5e7a-4744-f9ea-1c1ba5a8a58a",
        "colab": {
          "base_uri": "https://localhost:8080/"
        }
      },
      "execution_count": null,
      "outputs": [
        {
          "output_type": "stream",
          "name": "stdout",
          "text": [
            "----------------------------------------------------------------\n",
            "        Layer (type)               Output Shape         Param #\n",
            "================================================================\n",
            "            Conv2d-1           [-1, 16, 14, 14]             160\n",
            "       BatchNorm2d-2           [-1, 16, 14, 14]              32\n",
            "            Conv2d-3             [-1, 32, 7, 7]           4,640\n",
            "       BatchNorm2d-4             [-1, 32, 7, 7]              64\n",
            "            Conv2d-5             [-1, 64, 4, 4]          18,496\n",
            "       BatchNorm2d-6             [-1, 64, 4, 4]             128\n",
            "            Linear-7                  [-1, 128]         131,200\n",
            "       BatchNorm1d-8                  [-1, 128]             256\n",
            "            Linear-9                   [-1, 32]           4,128\n",
            "           Linear-10                   [-1, 32]           4,128\n",
            "           Linear-11                  [-1, 128]           4,224\n",
            "      BatchNorm1d-12                  [-1, 128]             256\n",
            "           Linear-13                 [-1, 1024]         132,096\n",
            "      BatchNorm2d-14             [-1, 64, 4, 4]             128\n",
            "  ConvTranspose2d-15             [-1, 32, 7, 7]          18,464\n",
            "      BatchNorm2d-16             [-1, 32, 7, 7]              64\n",
            "  ConvTranspose2d-17           [-1, 16, 14, 14]           4,624\n",
            "      BatchNorm2d-18           [-1, 16, 14, 14]              32\n",
            "  ConvTranspose2d-19            [-1, 1, 28, 28]             145\n",
            "================================================================\n",
            "Total params: 323,265\n",
            "Trainable params: 323,265\n",
            "Non-trainable params: 0\n",
            "----------------------------------------------------------------\n",
            "Input size (MB): 0.00\n",
            "Forward/backward pass size (MB): 0.19\n",
            "Params size (MB): 1.23\n",
            "Estimated Total Size (MB): 1.42\n",
            "----------------------------------------------------------------\n"
          ]
        }
      ]
    },
    {
      "cell_type": "code",
      "execution_count": null,
      "metadata": {
        "id": "uy8ZVCK3X1Xi",
        "outputId": "bda678d1-4e67-4e8a-e7b2-5ffa697e0ddd",
        "colab": {
          "base_uri": "https://localhost:8080/",
          "height": 621
        }
      },
      "outputs": [
        {
          "output_type": "stream",
          "name": "stdout",
          "text": [
            "0 168.06086611747742\n",
            "1 81.08185765892267\n",
            "2 59.46237837523222\n",
            "3 50.356123477220535\n",
            "4 45.93857675790787\n",
            "5 43.51391213387251\n",
            "6 41.87294478341937\n",
            "7 40.72365501150489\n",
            "8 39.81777537614107\n",
            "9 39.08420502766967\n"
          ]
        },
        {
          "output_type": "execute_result",
          "data": {
            "text/plain": [
              "[<matplotlib.lines.Line2D at 0x7fe58a3e4b20>]"
            ]
          },
          "metadata": {},
          "execution_count": 5
        },
        {
          "output_type": "display_data",
          "data": {
            "text/plain": [
              "<Figure size 640x480 with 1 Axes>"
            ],
            "image/png": "[encoded data removed]"
          },
          "metadata": {}
        }
      ],
      "source": [
        "\n",
        "\n",
        "device = \"cuda\" if torch.cuda.is_available() else \"cpu\"\n",
        "net = VarAutoEncoder(32).to(device)\n",
        "\n",
        "num_epochs = 10   # smaller if too slow\n",
        "lr = 1e-4\n",
        "\n",
        "optimizer = optim.Adam(net.parameters(), lr = lr)\n",
        "ls = []\n",
        "\n",
        "def vae_loss(Xhat, X, u, logvar):\n",
        "  KLD_WEIGHT = 0.0012\n",
        "  term1 = F.mse_loss(Xhat, X)\n",
        "  term2 = torch.mean(torch.sum(0.5*(1+logvar - torch.exp(logvar) - u**2), axis = 1), axis =0)\n",
        "  return (1- KLD_WEIGHT)* term1 - KLD_WEIGHT*term2\n",
        "\n",
        "for epoch in range(num_epochs):\n",
        "  total_loss = 0\n",
        "  for batch in train_loader:\n",
        "    X = batch[0].to(device)\n",
        "    ex, z,Xhat, u, logvar = net(X)\n",
        "    loss = vae_loss(Xhat, X,u, logvar )\n",
        "    optimizer.zero_grad()\n",
        "    loss.backward()\n",
        "    optimizer.step()\n",
        "    total_loss += loss.item()\n",
        "  print(epoch, total_loss)\n",
        "\n",
        "  ls.append(total_loss)\n",
        "\n",
        "plt.plot(ls)\n"
      ]
    },
    {
      "cell_type": "code",
      "source": [
        "summary(net, (1, 28, 28))"
      ],
      "metadata": {
        "id": "AHfjCTNPbRtu",
        "outputId": "35c6bb3d-3596-43b1-8060-d2c485e39f2e",
        "colab": {
          "base_uri": "https://localhost:8080/"
        }
      },
      "execution_count": null,
      "outputs": [
        {
          "output_type": "stream",
          "name": "stdout",
          "text": [
            "----------------------------------------------------------------\n",
            "        Layer (type)               Output Shape         Param #\n",
            "================================================================\n",
            "            Conv2d-1           [-1, 16, 14, 14]             160\n",
            "       BatchNorm2d-2           [-1, 16, 14, 14]              32\n",
            "            Conv2d-3             [-1, 32, 7, 7]           4,640\n",
            "       BatchNorm2d-4             [-1, 32, 7, 7]              64\n",
            "            Conv2d-5             [-1, 64, 4, 4]          18,496\n",
            "       BatchNorm2d-6             [-1, 64, 4, 4]             128\n",
            "            Linear-7                  [-1, 128]         131,200\n",
            "       BatchNorm1d-8                  [-1, 128]             256\n",
            "            Linear-9                   [-1, 32]           4,128\n",
            "           Linear-10                   [-1, 32]           4,128\n",
            "           Linear-11                  [-1, 128]           4,224\n",
            "      BatchNorm1d-12                  [-1, 128]             256\n",
            "           Linear-13                 [-1, 1024]         132,096\n",
            "      BatchNorm2d-14             [-1, 64, 4, 4]             128\n",
            "  ConvTranspose2d-15             [-1, 32, 7, 7]          18,464\n",
            "      BatchNorm2d-16             [-1, 32, 7, 7]              64\n",
            "  ConvTranspose2d-17           [-1, 16, 14, 14]           4,624\n",
            "      BatchNorm2d-18           [-1, 16, 14, 14]              32\n",
            "  ConvTranspose2d-19            [-1, 1, 28, 28]             145\n",
            "================================================================\n",
            "Total params: 323,265\n",
            "Trainable params: 323,265\n",
            "Non-trainable params: 0\n",
            "----------------------------------------------------------------\n",
            "Input size (MB): 0.00\n",
            "Forward/backward pass size (MB): 0.19\n",
            "Params size (MB): 1.23\n",
            "Estimated Total Size (MB): 1.42\n",
            "----------------------------------------------------------------\n"
          ]
        }
      ]
    },
    {
      "cell_type": "code",
      "execution_count": null,
      "metadata": {
        "id": "hy_ry3T3VEZS",
        "outputId": "977769d1-5038-419f-9ec4-295fb0f007ee",
        "colab": {
          "base_uri": "https://localhost:8080/"
        }
      },
      "outputs": [
        {
          "output_type": "stream",
          "name": "stdout",
          "text": [
            "torch.Size([32, 1, 28, 28])\n"
          ]
        }
      ],
      "source": [
        "print(Xhat.shape)"
      ]
    },
    {
      "cell_type": "code",
      "execution_count": null,
      "metadata": {
        "id": "YrfjAeXTbC_-"
      },
      "outputs": [],
      "source": [
        "net.eval()\n",
        "z = torch.randn(64,32)\n",
        "Xhat = net.decoder(z)\n"
      ]
    },
    {
      "cell_type": "code",
      "execution_count": null,
      "metadata": {
        "id": "ETSBKLUgWxkN",
        "outputId": "66f7c4be-7e63-497d-98d0-fc2548f8fc93",
        "colab": {
          "base_uri": "https://localhost:8080/",
          "height": 465
        }
      },
      "outputs": [
        {
          "output_type": "stream",
          "name": "stdout",
          "text": [
            "torch.Size([64, 1, 28, 28]) torch.Size([28, 28]) torch.float32\n"
          ]
        },
        {
          "output_type": "execute_result",
          "data": {
            "text/plain": [
              "<matplotlib.image.AxesImage at 0x7fe589cab6a0>"
            ]
          },
          "metadata": {},
          "execution_count": 9
        },
        {
          "output_type": "display_data",
          "data": {
            "text/plain": [
              "<Figure size 640x480 with 1 Axes>"
            ],
            "image/png": "[encoded data removed]"
          },
          "metadata": {}
        }
      ],
      "source": [
        "img = Xhat[0, 0]\n",
        "print(Xhat.shape, img.shape, img.dtype)\n",
        "plt.imshow(img.detach().cpu().numpy(), cmap='gray')\n"
      ]
    },
    {
      "cell_type": "code",
      "execution_count": null,
      "metadata": {
        "id": "UnWVkoRQW13E",
        "outputId": "b8c28542-bebf-4a2b-dea3-81d5f01f6b12",
        "colab": {
          "base_uri": "https://localhost:8080/",
          "height": 351
        }
      },
      "outputs": [
        {
          "output_type": "display_data",
          "data": {
            "text/plain": [
              "<Figure size 640x480 with 10 Axes>"
            ],
            "image/png": "[encoded data removed]"
          },
          "metadata": {}
        }
      ],
      "source": [
        "for i in range(10):\n",
        "  plt.subplot(2,5,i+1)\n",
        "  plt.imshow(Xhat[i,0,:,:].detach().cpu().numpy(),cmap='gray')\n",
        ""
      ]
    },
    {
      "cell_type": "code",
      "execution_count": null,
      "metadata": {
        "id": "Tcb1DBXauf0o"
      },
      "outputs": [],
      "source": [
        "# save the model\n",
        "PATH = './mnist_gen_net.pth'\n",
        "torch.save(net.state_dict(), PATH)\n",
        "# the below lines will load the model\n",
        "# net = Net()\n",
        "# net.load_state_dict(torch.load(PATH))"
      ]
    },
    {
      "cell_type": "code",
      "source": [],
      "metadata": {
        "id": "GaIVAhyLR7Nt"
      },
      "execution_count": null,
      "outputs": []
    }
  ],
  "metadata": {
    "colab": {
      "provenance": [],
      "gpuType": "T4",
      "include_colab_link": true
    },
    "kernelspec": {
      "display_name": "Python 3",
      "name": "python3"
    },
    "language_info": {
      "codemirror_mode": {
        "name": "ipython",
        "version": 3
      },
      "file_extension": ".py",
      "mimetype": "text/x-python",
      "name": "python",
      "nbconvert_exporter": "python",
      "pygments_lexer": "ipython3",
      "version": "3.9.15 (main, Nov 24 2022, 08:29:02) \n[Clang 14.0.6 ]"
    },
    "vscode": {
      "interpreter": {
        "hash": "d61e67d4406f83661a218a7594034be74564666d0640d3900a3e99845865d0f0"
      }
    }
  },
  "nbformat": 4,
  "nbformat_minor": 0
}